{
 "cells": [
  {
   "cell_type": "code",
   "execution_count": 38,
   "metadata": {
    "colab": {
     "base_uri": "https://localhost:8080/"
    },
    "id": "j79EV6i0FsT8",
    "outputId": "a8dc0913-e79e-4270-9bc7-6617110ad234"
   },
   "outputs": [
    {
     "name": "stderr",
     "output_type": "stream",
     "text": [
      "[nltk_data] Downloading package wordnet to /home/enes/nltk_data...\n",
      "[nltk_data]   Package wordnet is already up-to-date!\n",
      "[nltk_data] Downloading package stopwords to /home/enes/nltk_data...\n",
      "[nltk_data]   Package stopwords is already up-to-date!\n"
     ]
    },
    {
     "data": {
      "text/plain": [
       "True"
      ]
     },
     "execution_count": 38,
     "metadata": {},
     "output_type": "execute_result"
    }
   ],
   "source": [
    "import numpy as np\n",
    "import pandas as pd \n",
    "import matplotlib.pyplot as plt\n",
    "import spacy\n",
    "import seaborn as sns\n",
    "from wordcloud import WordCloud\n",
    "import warnings\n",
    "warnings.filterwarnings(\"ignore\")\n",
    "import re\n",
    "from bs4 import BeautifulSoup\n",
    "import nltk\n",
    "from tqdm import tqdm\n",
    "from nltk.stem import WordNetLemmatizer\n",
    "from nltk.tokenize import word_tokenize\n",
    "from nltk.corpus import stopwords\n",
    "from matplotlib import pyplot\n",
    "from keras.models import Sequential\n",
    "from sklearn.model_selection import train_test_split\n",
    "from sklearn.metrics import accuracy_score,f1_score, confusion_matrix\n",
    "from keras.layers import Dense\n",
    "from keras.preprocessing.text import Tokenizer\n",
    "from keras.preprocessing.sequence import pad_sequences\n",
    "from keras.layers import Dense , Input , LSTM , Embedding, Dropout , Activation, GRU, Flatten\n",
    "from keras.layers import Bidirectional, GlobalMaxPool1D\n",
    "from keras.models import Model, Sequential\n",
    "from keras.layers import Convolution1D\n",
    "from keras import initializers, regularizers, constraints, optimizers, layers\n",
    "from tensorflow import keras\n",
    "nltk.download('wordnet')\n",
    "nltk.download('stopwords')\n"
   ]
  },
  {
   "cell_type": "code",
   "execution_count": 22,
   "metadata": {
    "colab": {
     "base_uri": "https://localhost:8080/",
     "height": 206
    },
    "id": "YIo1UW232hDD",
    "outputId": "5de8ed3f-19ce-41a0-fb6a-194ef1f4ba51"
   },
   "outputs": [
    {
     "data": {
      "text/html": [
       "<div>\n",
       "<style scoped>\n",
       "    .dataframe tbody tr th:only-of-type {\n",
       "        vertical-align: middle;\n",
       "    }\n",
       "\n",
       "    .dataframe tbody tr th {\n",
       "        vertical-align: top;\n",
       "    }\n",
       "\n",
       "    .dataframe thead th {\n",
       "        text-align: right;\n",
       "    }\n",
       "</style>\n",
       "<table border=\"1\" class=\"dataframe\">\n",
       "  <thead>\n",
       "    <tr style=\"text-align: right;\">\n",
       "      <th></th>\n",
       "      <th>Hotels</th>\n",
       "      <th>Nicknames</th>\n",
       "      <th>Date</th>\n",
       "      <th>Review</th>\n",
       "      <th>Rating</th>\n",
       "    </tr>\n",
       "  </thead>\n",
       "  <tbody>\n",
       "    <tr>\n",
       "      <th>0</th>\n",
       "      <td>La table Saint Thomas</td>\n",
       "      <td>505helenem</td>\n",
       "      <td>14 février 2021</td>\n",
       "      <td>Challenge rempli, pour la St Valentin, nous so...</td>\n",
       "      <td>5</td>\n",
       "    </tr>\n",
       "    <tr>\n",
       "      <th>1</th>\n",
       "      <td>La table Saint Thomas</td>\n",
       "      <td>toufikh962</td>\n",
       "      <td>29 décembre 2020</td>\n",
       "      <td>Des fruits et des légumes de saisons dans un c...</td>\n",
       "      <td>4</td>\n",
       "    </tr>\n",
       "    <tr>\n",
       "      <th>2</th>\n",
       "      <td>La table Saint Thomas</td>\n",
       "      <td>Cathedralechartres</td>\n",
       "      <td>3 novembre 2020</td>\n",
       "      <td>Très bon restaurant avec de très bons produits...</td>\n",
       "      <td>4</td>\n",
       "    </tr>\n",
       "    <tr>\n",
       "      <th>3</th>\n",
       "      <td>La table Saint Thomas</td>\n",
       "      <td>guillaumedZ6459YZ</td>\n",
       "      <td>29 octobre 2020</td>\n",
       "      <td>Séduit par les avis Tripadvisor nous nous somm...</td>\n",
       "      <td>5</td>\n",
       "    </tr>\n",
       "    <tr>\n",
       "      <th>4</th>\n",
       "      <td>La table Saint Thomas</td>\n",
       "      <td>Willjess47</td>\n",
       "      <td>25 octobre 2020</td>\n",
       "      <td>super endroit le cadre est excellent . \\nLe re...</td>\n",
       "      <td>5</td>\n",
       "    </tr>\n",
       "  </tbody>\n",
       "</table>\n",
       "</div>"
      ],
      "text/plain": [
       "                  Hotels           Nicknames              Date  \\\n",
       "0  La table Saint Thomas          505helenem   14 février 2021   \n",
       "1  La table Saint Thomas          toufikh962  29 décembre 2020   \n",
       "2  La table Saint Thomas  Cathedralechartres   3 novembre 2020   \n",
       "3  La table Saint Thomas   guillaumedZ6459YZ   29 octobre 2020   \n",
       "4  La table Saint Thomas          Willjess47   25 octobre 2020   \n",
       "\n",
       "                                              Review  Rating  \n",
       "0  Challenge rempli, pour la St Valentin, nous so...       5  \n",
       "1  Des fruits et des légumes de saisons dans un c...       4  \n",
       "2  Très bon restaurant avec de très bons produits...       4  \n",
       "3  Séduit par les avis Tripadvisor nous nous somm...       5  \n",
       "4  super endroit le cadre est excellent . \\nLe re...       5  "
      ]
     },
     "execution_count": 22,
     "metadata": {},
     "output_type": "execute_result"
    }
   ],
   "source": [
    "data = pd.read_csv('Reviews.csv', names=[\"Hotels\", \"Nicknames\", \"Date\", \"Review\", \"Rating\"])\n",
    "data.head()"
   ]
  },
  {
   "cell_type": "markdown",
   "metadata": {
    "id": "Dn1FU1SE4I_l"
   },
   "source": []
  },
  {
   "cell_type": "code",
   "execution_count": 23,
   "metadata": {
    "colab": {
     "base_uri": "https://localhost:8080/"
    },
    "id": "0ic7JVHQaebR",
    "outputId": "3de0b7a5-90b4-403b-f245-bf40d3c737e2"
   },
   "outputs": [
    {
     "data": {
      "text/plain": [
       "(50438, 5)"
      ]
     },
     "execution_count": 23,
     "metadata": {},
     "output_type": "execute_result"
    }
   ],
   "source": [
    "df_filtered = data[data[\"Review\"]!=3]\n",
    "df_filtered.shape"
   ]
  },
  {
   "cell_type": "code",
   "execution_count": 24,
   "metadata": {
    "colab": {
     "base_uri": "https://localhost:8080/",
     "height": 424
    },
    "id": "AUF20AUnaKij",
    "outputId": "3cfdd87f-923f-459a-b269-3d3ca6a9b4cb"
   },
   "outputs": [
    {
     "data": {
      "text/html": [
       "<div>\n",
       "<style scoped>\n",
       "    .dataframe tbody tr th:only-of-type {\n",
       "        vertical-align: middle;\n",
       "    }\n",
       "\n",
       "    .dataframe tbody tr th {\n",
       "        vertical-align: top;\n",
       "    }\n",
       "\n",
       "    .dataframe thead th {\n",
       "        text-align: right;\n",
       "    }\n",
       "</style>\n",
       "<table border=\"1\" class=\"dataframe\">\n",
       "  <thead>\n",
       "    <tr style=\"text-align: right;\">\n",
       "      <th></th>\n",
       "      <th>Hotels</th>\n",
       "      <th>Nicknames</th>\n",
       "      <th>Date</th>\n",
       "      <th>Review</th>\n",
       "      <th>Rating</th>\n",
       "    </tr>\n",
       "  </thead>\n",
       "  <tbody>\n",
       "    <tr>\n",
       "      <th>0</th>\n",
       "      <td>La table Saint Thomas</td>\n",
       "      <td>505helenem</td>\n",
       "      <td>14 février 2021</td>\n",
       "      <td>Challenge rempli, pour la St Valentin, nous so...</td>\n",
       "      <td>1</td>\n",
       "    </tr>\n",
       "    <tr>\n",
       "      <th>1</th>\n",
       "      <td>La table Saint Thomas</td>\n",
       "      <td>toufikh962</td>\n",
       "      <td>29 décembre 2020</td>\n",
       "      <td>Des fruits et des légumes de saisons dans un c...</td>\n",
       "      <td>1</td>\n",
       "    </tr>\n",
       "    <tr>\n",
       "      <th>2</th>\n",
       "      <td>La table Saint Thomas</td>\n",
       "      <td>Cathedralechartres</td>\n",
       "      <td>3 novembre 2020</td>\n",
       "      <td>Très bon restaurant avec de très bons produits...</td>\n",
       "      <td>1</td>\n",
       "    </tr>\n",
       "    <tr>\n",
       "      <th>3</th>\n",
       "      <td>La table Saint Thomas</td>\n",
       "      <td>guillaumedZ6459YZ</td>\n",
       "      <td>29 octobre 2020</td>\n",
       "      <td>Séduit par les avis Tripadvisor nous nous somm...</td>\n",
       "      <td>1</td>\n",
       "    </tr>\n",
       "    <tr>\n",
       "      <th>4</th>\n",
       "      <td>La table Saint Thomas</td>\n",
       "      <td>Willjess47</td>\n",
       "      <td>25 octobre 2020</td>\n",
       "      <td>super endroit le cadre est excellent . \\nLe re...</td>\n",
       "      <td>1</td>\n",
       "    </tr>\n",
       "    <tr>\n",
       "      <th>...</th>\n",
       "      <td>...</td>\n",
       "      <td>...</td>\n",
       "      <td>...</td>\n",
       "      <td>...</td>\n",
       "      <td>...</td>\n",
       "    </tr>\n",
       "    <tr>\n",
       "      <th>50433</th>\n",
       "      <td>Casa Délice</td>\n",
       "      <td>Rony084</td>\n",
       "      <td>16 avril 2017</td>\n",
       "      <td>très bon plats, bien variés, bien cuits.\\nmême...</td>\n",
       "      <td>1</td>\n",
       "    </tr>\n",
       "    <tr>\n",
       "      <th>50434</th>\n",
       "      <td>Casa Délice</td>\n",
       "      <td>Ladiwilly T</td>\n",
       "      <td>17 octobre 2016</td>\n",
       "      <td>Je ne sais pas si c'est le fait d'être le seul...</td>\n",
       "      <td>0</td>\n",
       "    </tr>\n",
       "    <tr>\n",
       "      <th>50435</th>\n",
       "      <td>Casa Délice</td>\n",
       "      <td>Marie M</td>\n",
       "      <td>1 octobre 2016</td>\n",
       "      <td>Commandée ma pizza à 23h15, heure d'arrivée es...</td>\n",
       "      <td>0</td>\n",
       "    </tr>\n",
       "    <tr>\n",
       "      <th>50436</th>\n",
       "      <td>Casa Délice</td>\n",
       "      <td>Fruit C</td>\n",
       "      <td>16 avril 2016</td>\n",
       "      <td>Tres bon acceuil.\\nPate a pizza excellente\\nLe...</td>\n",
       "      <td>1</td>\n",
       "    </tr>\n",
       "    <tr>\n",
       "      <th>50437</th>\n",
       "      <td>Casa Délice</td>\n",
       "      <td>Sébastien A</td>\n",
       "      <td>11 septembre 2015</td>\n",
       "      <td>Franchement, rarement mangé pizza plus mauvais...</td>\n",
       "      <td>0</td>\n",
       "    </tr>\n",
       "  </tbody>\n",
       "</table>\n",
       "<p>50438 rows × 5 columns</p>\n",
       "</div>"
      ],
      "text/plain": [
       "                      Hotels           Nicknames               Date  \\\n",
       "0      La table Saint Thomas          505helenem    14 février 2021   \n",
       "1      La table Saint Thomas          toufikh962   29 décembre 2020   \n",
       "2      La table Saint Thomas  Cathedralechartres    3 novembre 2020   \n",
       "3      La table Saint Thomas   guillaumedZ6459YZ    29 octobre 2020   \n",
       "4      La table Saint Thomas          Willjess47    25 octobre 2020   \n",
       "...                      ...                 ...                ...   \n",
       "50433            Casa Délice             Rony084      16 avril 2017   \n",
       "50434            Casa Délice         Ladiwilly T    17 octobre 2016   \n",
       "50435            Casa Délice             Marie M     1 octobre 2016   \n",
       "50436            Casa Délice             Fruit C      16 avril 2016   \n",
       "50437            Casa Délice         Sébastien A  11 septembre 2015   \n",
       "\n",
       "                                                  Review  Rating  \n",
       "0      Challenge rempli, pour la St Valentin, nous so...       1  \n",
       "1      Des fruits et des légumes de saisons dans un c...       1  \n",
       "2      Très bon restaurant avec de très bons produits...       1  \n",
       "3      Séduit par les avis Tripadvisor nous nous somm...       1  \n",
       "4      super endroit le cadre est excellent . \\nLe re...       1  \n",
       "...                                                  ...     ...  \n",
       "50433  très bon plats, bien variés, bien cuits.\\nmême...       1  \n",
       "50434  Je ne sais pas si c'est le fait d'être le seul...       0  \n",
       "50435  Commandée ma pizza à 23h15, heure d'arrivée es...       0  \n",
       "50436  Tres bon acceuil.\\nPate a pizza excellente\\nLe...       1  \n",
       "50437  Franchement, rarement mangé pizza plus mauvais...       0  \n",
       "\n",
       "[50438 rows x 5 columns]"
      ]
     },
     "execution_count": 24,
     "metadata": {},
     "output_type": "execute_result"
    }
   ],
   "source": [
    "df_filtered[\"Rating\"] = df_filtered[\"Rating\"].apply(lambda x : 1 if x>3 else 0)\n",
    "df_filtered"
   ]
  },
  {
   "cell_type": "code",
   "execution_count": 25,
   "metadata": {
    "colab": {
     "base_uri": "https://localhost:8080/",
     "height": 475
    },
    "id": "hZLTNCb4ayVN",
    "outputId": "917efcb3-40f5-48c0-e52f-edd3009daf10"
   },
   "outputs": [
    {
     "data": {
      "text/plain": [
       "Text(0.5, 1.0, 'Bar plot of sentiments')"
      ]
     },
     "execution_count": 25,
     "metadata": {},
     "output_type": "execute_result"
    },
    {
     "data": {
      "image/png": "[encoded data removed]",
      "text/plain": [
       "<Figure size 720x504 with 1 Axes>"
      ]
     },
     "metadata": {
      "needs_background": "light"
     },
     "output_type": "display_data"
    }
   ],
   "source": [
    "plt.figure(figsize = (10,7))\n",
    "sns.countplot(df_filtered['Rating'])\n",
    "plt.title(\"Bar plot of sentiments\")"
   ]
  },
  {
   "cell_type": "code",
   "execution_count": 26,
   "metadata": {
    "id": "t2yYCw2TbE2W"
   },
   "outputs": [],
   "source": [
    "def decontract(text):\n",
    "    text = re.sub(r\"won\\'t\", \"will not\", text)\n",
    "    text = re.sub(r\"can\\'t\", \"can not\", text)\n",
    "    text = re.sub(r\"n\\'t\", \" not\", text)\n",
    "    text = re.sub(r\"\\'re\", \" are\", text)\n",
    "    text = re.sub(r\"\\'s\", \" is\", text)\n",
    "    text = re.sub(r\"\\'d\", \" would\", text)\n",
    "    text = re.sub(r\"\\'ll\", \" will\", text)\n",
    "    text = re.sub(r\"\\'t\", \" not\", text)\n",
    "    text = re.sub(r\"\\'ve\", \" have\", text)\n",
    "    text = re.sub(r\"\\'m\", \" am\", text)\n",
    "    return text\n"
   ]
  },
  {
   "cell_type": "code",
   "execution_count": 27,
   "metadata": {
    "colab": {
     "base_uri": "https://localhost:8080/"
    },
    "id": "MlCpntyyy9Jr",
    "outputId": "b7578e2c-b9af-4ea3-ca59-d94fc8454a4e"
   },
   "outputs": [
    {
     "data": {
      "text/plain": [
       "{'ai',\n",
       " 'aie',\n",
       " 'aient',\n",
       " 'aies',\n",
       " 'ait',\n",
       " 'as',\n",
       " 'au',\n",
       " 'aura',\n",
       " 'aurai',\n",
       " 'auraient',\n",
       " 'aurais',\n",
       " 'aurait',\n",
       " 'auras',\n",
       " 'aurez',\n",
       " 'auriez',\n",
       " 'aurions',\n",
       " 'aurons',\n",
       " 'auront',\n",
       " 'aux',\n",
       " 'avaient',\n",
       " 'avais',\n",
       " 'avait',\n",
       " 'avec',\n",
       " 'avez',\n",
       " 'aviez',\n",
       " 'avions',\n",
       " 'avons',\n",
       " 'ayant',\n",
       " 'ayante',\n",
       " 'ayantes',\n",
       " 'ayants',\n",
       " 'ayez',\n",
       " 'ayons',\n",
       " 'c',\n",
       " 'ce',\n",
       " 'ces',\n",
       " 'd',\n",
       " 'dans',\n",
       " 'de',\n",
       " 'des',\n",
       " 'du',\n",
       " 'elle',\n",
       " 'en',\n",
       " 'es',\n",
       " 'est',\n",
       " 'et',\n",
       " 'eu',\n",
       " 'eue',\n",
       " 'eues',\n",
       " 'eurent',\n",
       " 'eus',\n",
       " 'eusse',\n",
       " 'eussent',\n",
       " 'eusses',\n",
       " 'eussiez',\n",
       " 'eussions',\n",
       " 'eut',\n",
       " 'eux',\n",
       " 'eûmes',\n",
       " 'eût',\n",
       " 'eûtes',\n",
       " 'furent',\n",
       " 'fus',\n",
       " 'fusse',\n",
       " 'fussent',\n",
       " 'fusses',\n",
       " 'fussiez',\n",
       " 'fussions',\n",
       " 'fut',\n",
       " 'fûmes',\n",
       " 'fût',\n",
       " 'fûtes',\n",
       " 'il',\n",
       " 'ils',\n",
       " 'j',\n",
       " 'je',\n",
       " 'l',\n",
       " 'la',\n",
       " 'le',\n",
       " 'les',\n",
       " 'leur',\n",
       " 'lui',\n",
       " 'm',\n",
       " 'ma',\n",
       " 'mais',\n",
       " 'me',\n",
       " 'mes',\n",
       " 'moi',\n",
       " 'mon',\n",
       " 'même',\n",
       " 'n',\n",
       " 'ne',\n",
       " 'nos',\n",
       " 'notre',\n",
       " 'nous',\n",
       " 'on',\n",
       " 'ont',\n",
       " 'ou',\n",
       " 'par',\n",
       " 'pas',\n",
       " 'pour',\n",
       " 'qu',\n",
       " 'que',\n",
       " 'qui',\n",
       " 's',\n",
       " 'sa',\n",
       " 'se',\n",
       " 'sera',\n",
       " 'serai',\n",
       " 'seraient',\n",
       " 'serais',\n",
       " 'serait',\n",
       " 'seras',\n",
       " 'serez',\n",
       " 'seriez',\n",
       " 'serions',\n",
       " 'serons',\n",
       " 'seront',\n",
       " 'ses',\n",
       " 'soient',\n",
       " 'sois',\n",
       " 'soit',\n",
       " 'sommes',\n",
       " 'son',\n",
       " 'sont',\n",
       " 'soyez',\n",
       " 'soyons',\n",
       " 'suis',\n",
       " 'sur',\n",
       " 't',\n",
       " 'ta',\n",
       " 'te',\n",
       " 'tes',\n",
       " 'toi',\n",
       " 'ton',\n",
       " 'tu',\n",
       " 'un',\n",
       " 'une',\n",
       " 'vos',\n",
       " 'votre',\n",
       " 'vous',\n",
       " 'y',\n",
       " 'à',\n",
       " 'étaient',\n",
       " 'étais',\n",
       " 'était',\n",
       " 'étant',\n",
       " 'étante',\n",
       " 'étantes',\n",
       " 'étants',\n",
       " 'étiez',\n",
       " 'étions',\n",
       " 'été',\n",
       " 'étée',\n",
       " 'étées',\n",
       " 'étés',\n",
       " 'êtes'}"
      ]
     },
     "execution_count": 27,
     "metadata": {},
     "output_type": "execute_result"
    }
   ],
   "source": [
    "\n",
    "stop_words_fr = stopwords.words('french')\n",
    "stop_words_fr = set(stop_words_fr)\n",
    "stop_words_fr\n",
    "\n"
   ]
  },
  {
   "cell_type": "code",
   "execution_count": 28,
   "metadata": {
    "id": "zOaMPNe8bV6p"
   },
   "outputs": [],
   "source": [
    "\n",
    "#stop_words= set((['br', 'the', 'i', 'me', 'my', 'myself', 'we', 'our', 'ours', 'ourselves', 'you', \"you're\", \"you've\",\\\n",
    "            #\"you'll\", \"you'd\", 'your', 'yours', 'yourself', 'yourselves', 'he', 'him', 'his', 'himself', \\\n",
    "            #'she', \"she's\", 'her', 'hers', 'herself', 'it', \"it's\", 'its', 'itself', 'they', 'them', 'their',\\\n",
    "            #'theirs', 'themselves', 'what', 'which', 'who', 'whom', 'this', 'that', \"that'll\", 'these', 'those', \\\n",
    "            #'am', 'is', 'are', 'was', 'were', 'be', 'been', 'being', 'have', 'has', 'had', 'having', 'do', 'does', \\\n",
    "            #'did', 'doing', 'a', 'an', 'the', 'and', 'but', 'if', 'or', 'because', 'as', 'until', 'while', 'of', \\\n",
    "            #'at', 'by', 'for', 'with', 'about', 'against', 'between', 'into', 'through', 'during', 'before', 'after',\\\n",
    "            #'above', 'below', 'to', 'from', 'up', 'down', 'in', 'out', 'on', 'off', 'over', 'under', 'again', 'further',\\\n",
    "            #'then', 'once', 'here', 'there', 'when', 'where', 'why', 'how', 'all', 'any', 'both', 'each', 'few', 'more',\\\n",
    "            #'most', 'other', 'some', 'such', 'only', 'own', 'same', 'so', 'than', 'too', 'very', \\\n",
    "            #'s', 't', 'can', 'will', 'just', 'don', \"don't\", 'should', \"should've\", 'now', 'd', 'll', 'm', 'o', 're', \\\n",
    "            #'ve', 'y', 'ain', 'aren', \"aren't\", 'couldn', \"couldn't\", 'didn', \"didn't\", 'doesn', \"doesn't\", 'hadn',\\\n",
    "            #\"hadn't\", 'hasn', \"hasn't\", 'haven', \"haven't\", 'isn', \"isn't\", 'ma', 'mightn', \"mightn't\", 'mustn',\\\n",
    "            #\"mustn't\", 'needn', \"needn't\", 'shan', \"shan't\", 'shouldn', \"shouldn't\", 'wasn', \"wasn't\", 'weren', \"weren't\", \\\n",
    "            #'won', \"won't\", 'wouldn', \"wouldn't\", ]) \n"
   ]
  },
  {
   "cell_type": "code",
   "execution_count": 29,
   "metadata": {
    "id": "jf7QG9eJbZNH"
   },
   "outputs": [],
   "source": [
    "lemmatizer = WordNetLemmatizer()"
   ]
  },
  {
   "cell_type": "code",
   "execution_count": 30,
   "metadata": {
    "id": "7jlYlXRWbb9O"
   },
   "outputs": [],
   "source": [
    "def preprocess_text(review):\n",
    "    review = re.sub(r\"http\\S+\", \"\", review)             # removing website links\n",
    "    review = BeautifulSoup(review, 'lxml').get_text()   # removing html tags\n",
    "    review = decontract(review)                         # decontracting\n",
    "    review = re.sub(\"\\S*\\d\\S*\", \"\", review).strip()     # removing the words with numeric digits\n",
    "    review = re.sub('[^A-Za-z]+', ' ', review)          # removing non-word characters\n",
    "    review = review.lower()                             # converting to lower case\n",
    "    #review = [word for word in review.split(\" \") if not word in stop_words]\n",
    "    review = [word for word in review.split(\" \") if not word in stop_words_fr] # removing stop words\n",
    "    review = [lemmatizer.lemmatize(token, \"v\") for token in review] #Lemmatization\n",
    "    review = \" \".join(review)\n",
    "    review.strip()\n",
    "    return review\n",
    "df_filtered['Review'] = df_filtered['Review'].apply(lambda x: preprocess_text(x))"
   ]
  },
  {
   "cell_type": "code",
   "execution_count": 31,
   "metadata": {
    "colab": {
     "base_uri": "https://localhost:8080/"
    },
    "id": "bpqK9F1dbyT-",
    "outputId": "a7e96c59-81c0-486e-c57b-17a8edfb5124"
   },
   "outputs": [
    {
     "data": {
      "text/plain": [
       "0    challenge rempli st valentin tomb amoureux men...\n",
       "1    fruit gum saisons cadre charmant accueillant p...\n",
       "2    tr bon restaurant tr bons produits frais tr bo...\n",
       "3    duit avis tripadvisor laisser tenter vraiment ...\n",
       "4    super endroit cadre excellent repas a tait par...\n",
       "Name: Review, dtype: object"
      ]
     },
     "execution_count": 31,
     "metadata": {},
     "output_type": "execute_result"
    }
   ],
   "source": [
    "df_filtered['Review'].head()"
   ]
  },
  {
   "cell_type": "code",
   "execution_count": 32,
   "metadata": {
    "colab": {
     "base_uri": "https://localhost:8080/"
    },
    "id": "ioRMHvNJb6Xx",
    "outputId": "6e0112d0-b917-430f-b397-c5532282bb97"
   },
   "outputs": [
    {
     "name": "stdout",
     "output_type": "stream",
     "text": [
      "Training data size :  (40350, 5)\n",
      "Test data size :  (10088, 5)\n"
     ]
    }
   ],
   "source": [
    "train_df, test_df = train_test_split(df_filtered, test_size = 0.2, random_state = 42)\n",
    "print(\"Training data size : \", train_df.shape)\n",
    "print(\"Test data size : \", test_df.shape)"
   ]
  },
  {
   "cell_type": "code",
   "execution_count": 33,
   "metadata": {
    "id": "NEP0wRwVcDrt"
   },
   "outputs": [
    {
     "name": "stdout",
     "output_type": "stream",
     "text": [
      "Model: \"sequential\"\n",
      "_________________________________________________________________\n",
      "Layer (type)                 Output Shape              Param #   \n",
      "=================================================================\n",
      "embedding (Embedding)        (None, 130, 32)           320032    \n",
      "_________________________________________________________________\n",
      "lstm (LSTM)                  (None, 200)               186400    \n",
      "_________________________________________________________________\n",
      "dense (Dense)                (None, 1)                 201       \n",
      "=================================================================\n",
      "Total params: 506,633\n",
      "Trainable params: 506,633\n",
      "Non-trainable params: 0\n",
      "_________________________________________________________________\n",
      "Epoch 1/10\n",
      "505/505 [==============================] - 364s 713ms/step - loss: 0.3940 - accuracy: 0.8311 - val_loss: 0.2454 - val_accuracy: 0.9006\n",
      "Epoch 2/10\n",
      "505/505 [==============================] - 351s 696ms/step - loss: 0.2106 - accuracy: 0.9205 - val_loss: 0.2518 - val_accuracy: 0.8976\n",
      "Epoch 3/10\n",
      "505/505 [==============================] - 339s 672ms/step - loss: 0.1753 - accuracy: 0.9357 - val_loss: 0.2538 - val_accuracy: 0.8967\n",
      "Epoch 4/10\n",
      "505/505 [==============================] - 340s 673ms/step - loss: 0.1525 - accuracy: 0.9452 - val_loss: 0.2705 - val_accuracy: 0.8926\n",
      "Epoch 5/10\n",
      "505/505 [==============================] - 342s 678ms/step - loss: 0.1284 - accuracy: 0.9567 - val_loss: 0.3002 - val_accuracy: 0.8856\n",
      "Epoch 6/10\n",
      "505/505 [==============================] - 337s 666ms/step - loss: 0.0985 - accuracy: 0.9673 - val_loss: 0.3266 - val_accuracy: 0.8867\n",
      "Epoch 7/10\n",
      "505/505 [==============================] - 418s 828ms/step - loss: 0.0847 - accuracy: 0.9726 - val_loss: 0.3567 - val_accuracy: 0.8763\n",
      "Epoch 8/10\n",
      "505/505 [==============================] - 363s 720ms/step - loss: 0.0702 - accuracy: 0.9767 - val_loss: 0.4647 - val_accuracy: 0.8770\n",
      "Epoch 9/10\n",
      "505/505 [==============================] - 287s 568ms/step - loss: 0.0532 - accuracy: 0.9839 - val_loss: 0.5208 - val_accuracy: 0.8701\n",
      "Epoch 10/10\n",
      "505/505 [==============================] - 253s 499ms/step - loss: 0.0497 - accuracy: 0.9832 - val_loss: 0.5320 - val_accuracy: 0.8705\n"
     ]
    }
   ],
   "source": [
    "def model_lstm():  \n",
    "    top_words = 10000\n",
    "    tokenizer = Tokenizer(num_words=top_words)\n",
    "    tokenizer.fit_on_texts(train_df['Review'])\n",
    "    list_tokenized_train = tokenizer.texts_to_sequences(train_df['Review'])\n",
    "\n",
    "    max_review_length = 130\n",
    "    X_train = pad_sequences(list_tokenized_train, maxlen=max_review_length)\n",
    "    y_train = train_df['Rating']\n",
    "\n",
    "\n",
    "    embedding_vecor_length = 32\n",
    "    model = Sequential()\n",
    "    model.add(Embedding(top_words+1, embedding_vecor_length, input_length=max_review_length))\n",
    "    model.add(LSTM(200))\n",
    "    model.add(Dense(1, activation='sigmoid'))\n",
    "    model.compile(loss='binary_crossentropy', optimizer='adam', metrics=['accuracy'])\n",
    "    model.summary()\n",
    "    \n",
    "    lstm = model.fit(X_train, y_train, epochs=10, batch_size=64, validation_split=0.2)\n",
    "    \n",
    "model_lstm()"
   ]
  },
  {
   "cell_type": "code",
   "execution_count": 37,
   "metadata": {
    "colab": {
     "base_uri": "https://localhost:8080/",
     "height": 334
    },
    "id": "CGgvsta1da87",
    "outputId": "bbb6588c-9f0f-4133-a8f6-b03bf12f0a6c"
   },
   "outputs": [
    {
     "ename": "NameError",
     "evalue": "name 'tokenizer' is not defined",
     "output_type": "error",
     "traceback": [
      "\u001b[0;31m---------------------------------------------------------------------------\u001b[0m",
      "\u001b[0;31mNameError\u001b[0m                                 Traceback (most recent call last)",
      "\u001b[0;32m<ipython-input-37-904c2283e5bd>\u001b[0m in \u001b[0;36m<module>\u001b[0;34m\u001b[0m\n\u001b[0;32m----> 1\u001b[0;31m \u001b[0mlist_tokenized_test\u001b[0m \u001b[0;34m=\u001b[0m \u001b[0mtokenizer\u001b[0m\u001b[0;34m.\u001b[0m\u001b[0mtexts_to_sequences\u001b[0m\u001b[0;34m(\u001b[0m\u001b[0mtest_df\u001b[0m\u001b[0;34m[\u001b[0m\u001b[0;34m'Review'\u001b[0m\u001b[0;34m]\u001b[0m\u001b[0;34m)\u001b[0m\u001b[0;34m\u001b[0m\u001b[0;34m\u001b[0m\u001b[0m\n\u001b[0m\u001b[1;32m      2\u001b[0m \u001b[0mX_test\u001b[0m \u001b[0;34m=\u001b[0m \u001b[0mpad_sequences\u001b[0m\u001b[0;34m(\u001b[0m\u001b[0mlist_tokenized_test\u001b[0m\u001b[0;34m,\u001b[0m \u001b[0mmaxlen\u001b[0m\u001b[0;34m=\u001b[0m\u001b[0mmax_review_length\u001b[0m\u001b[0;34m)\u001b[0m\u001b[0;34m\u001b[0m\u001b[0;34m\u001b[0m\u001b[0m\n\u001b[1;32m      3\u001b[0m \u001b[0my_test\u001b[0m \u001b[0;34m=\u001b[0m \u001b[0mtest_df\u001b[0m\u001b[0;34m[\u001b[0m\u001b[0;34m'Rating'\u001b[0m\u001b[0;34m]\u001b[0m\u001b[0;34m\u001b[0m\u001b[0;34m\u001b[0m\u001b[0m\n\u001b[1;32m      4\u001b[0m \u001b[0mprediction\u001b[0m \u001b[0;34m=\u001b[0m \u001b[0mmodel\u001b[0m\u001b[0;34m.\u001b[0m\u001b[0mpredict\u001b[0m\u001b[0;34m(\u001b[0m\u001b[0mX_test\u001b[0m\u001b[0;34m)\u001b[0m\u001b[0;34m\u001b[0m\u001b[0;34m\u001b[0m\u001b[0m\n\u001b[1;32m      5\u001b[0m \u001b[0my_pred\u001b[0m \u001b[0;34m=\u001b[0m \u001b[0;34m(\u001b[0m\u001b[0mprediction\u001b[0m \u001b[0;34m>\u001b[0m \u001b[0;36m0.5\u001b[0m\u001b[0;34m)\u001b[0m\u001b[0;34m\u001b[0m\u001b[0;34m\u001b[0m\u001b[0m\n",
      "\u001b[0;31mNameError\u001b[0m: name 'tokenizer' is not defined"
     ]
    }
   ],
   "source": [
    "list_tokenized_test = tokenizer.texts_to_sequences(test_df['Review'])\n",
    "X_test = pad_sequences(list_tokenized_test, maxlen=max_review_length)\n",
    "y_test = test_df['Rating']\n",
    "prediction = model.predict(X_test)\n",
    "y_pred = (prediction > 0.5)\n",
    "print(\"Accuracy of the model : \", accuracy_score(y_pred, y_test))\n",
    "print('F1-score: ', f1_score(y_pred, y_test))\n",
    "print('Confusion matrix:')\n",
    "confusion_matrix(y_test,y_pred)\n",
    "#sns.heatmap(confusion_matrix(y_test,y_pred), annot=True, cmap=sns.color_palette('viridis'))\n",
    "labels = ['True Neg','False Pos','False Neg','True Pos']\n",
    "categories = ['Zero', 'One']\n",
    "sns.heatmap(confusion_matrix(y_test,y_pred), \n",
    "                      group_names=labels,\n",
    "                      categories=categories, \n",
    "                      cmap='binary')"
   ]
  },
  {
   "cell_type": "code",
   "execution_count": null,
   "metadata": {
    "colab": {
     "base_uri": "https://localhost:8080/"
    },
    "id": "VeJvsxNNivLB",
    "outputId": "1128fe80-f34c-455d-fa8e-f6ddc206a2f6"
   },
   "outputs": [],
   "source": [
    "def save_model(model, dir='output'):\n",
    "    os.mkdir(dir)\n",
    "    try:\n",
    "        model.save_weights('/home/enes/resto_sentiment/lstm_model.hd5')\n",
    "    except FileExistsError:\n",
    "        pass\n",
    "    \n",
    "    model.save_weights('/home/enes/resto_sentiment/lstm_model.hd5')"
   ]
  },
  {
   "cell_type": "code",
   "execution_count": null,
   "metadata": {},
   "outputs": [],
   "source": [
    "def load_model(dir='output'):\n",
    "    model = model_lstm()\n",
    "    model.load_weights(os.path.join(dir, '/home/enes/resto_sentiment/lstm_model.hd5'))\n",
    "    return model"
   ]
  },
  {
   "cell_type": "code",
   "execution_count": null,
   "metadata": {},
   "outputs": [],
   "source": [
    "def tokenize_review(test_review):\n",
    "    test_review = test_review.lower()\n",
    "    # get rid of punctuation\n",
    "    test_review = re.sub('[^A-Za-z]+', ' ', test_review)\n",
    "\n",
    "    # splitting by spaces\n",
    "    test_words = test_review.split()\n",
    "\n",
    "    \n",
    "\n",
    "\n",
    "def predict(net, test_review, sequence_length=200):\n",
    "    print(type(test_review))\n",
    "    # tokenize review\n",
    "    test_ints = tokenize_review(test_review)\n",
    "    \n",
    "    top_words = 3000\n",
    "    tokenizer = Tokenizer(num_words=top_words)\n",
    "    tokenizer.fit_on_texts(test_review)\n",
    "    list_tokenized_train = tokenizer.texts_to_sequences(test_review)\n",
    "    \n",
    "    # pad tokenized sequence\n",
    "    seq_length=sequence_length\n",
    "    features = pad_features([test_ints], seq_length)\n",
    "    \n",
    "    # convert to tensor to pass into your model\n",
    "    feature_tensor = tf.cast(features, tf.float32)\n",
    "    \n",
    "    batch_size = 1\n",
    "        \n",
    "    # get the output from the model\n",
    "    pred = net(feature_tensor)\n",
    "    \n",
    "    # convert output probabilities to predicted class (0 or 1)\n",
    "    # printing output value, before rounding\n",
    "    return pred"
   ]
  },
  {
   "cell_type": "code",
   "execution_count": null,
   "metadata": {},
   "outputs": [],
   "source": [
    "your_review = input()\n",
    "pred = predict(model, your_review)\n",
    "pred.numpy()[0]"
   ]
  },
  {
   "cell_type": "code",
   "execution_count": null,
   "metadata": {
    "id": "myHFpvVI52GS"
   },
   "outputs": [],
   "source": [
    "score = model.evaluate(X_test, y_test, verbose=1)"
   ]
  },
  {
   "cell_type": "code",
   "execution_count": null,
   "metadata": {
    "id": "Ttr8ghDo58P3"
   },
   "outputs": [],
   "source": [
    "print(\"Test Score:\", score[0])\n",
    "print(\"Test Accuracy:\", score[1])"
   ]
  },
  {
   "cell_type": "code",
   "execution_count": null,
   "metadata": {
    "id": "nqReHPoxRl3U"
   },
   "outputs": [],
   "source": [
    "wordcloud = WordCloud(max_words=5000, background_color=\"white\").generate(str(df_filtered.Review))\n",
    "plt.figure(figsize=(20, 40))\n",
    "plt.imshow(wordcloud, interpolation=\"bilinear\")\n",
    "plt.axis(\"off\")\n",
    "plt.show()"
   ]
  }
 ],
 "metadata": {
  "accelerator": "GPU",
  "colab": {
   "collapsed_sections": [],
   "name": "resto_semtiment.ipynb",
   "provenance": []
  },
  "kernelspec": {
   "display_name": "Python 3",
   "language": "python",
   "name": "python3"
  },
  "language_info": {
   "codemirror_mode": {
    "name": "ipython",
    "version": 3
   },
   "file_extension": ".py",
   "mimetype": "text/x-python",
   "name": "python",
   "nbconvert_exporter": "python",
   "pygments_lexer": "ipython3",
   "version": "3.8.5"
  }
 },
 "nbformat": 4,
 "nbformat_minor": 4
}
